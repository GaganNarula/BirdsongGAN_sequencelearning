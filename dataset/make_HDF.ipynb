{
 "cells": [
  {
   "cell_type": "code",
   "execution_count": 1,
   "metadata": {},
   "outputs": [],
   "source": [
    "from create_dataset import *\n",
    "import h5py\n",
    "from utils import *\n",
    "import sys\n",
    "from scipy.io import wavfile\n",
    "import pdb\n",
    "from time import time\n",
    "from utils import *\n",
    "import glob"
   ]
  },
  {
   "cell_type": "code",
   "execution_count": 8,
   "metadata": {},
   "outputs": [],
   "source": [
    "path2wavs = '/media/songbird/Gagan_external/songbird_data/WAV_files/'"
   ]
  },
  {
   "cell_type": "code",
   "execution_count": 3,
   "metadata": {},
   "outputs": [
    {
     "data": {
      "text/plain": [
       "['b13r16',\n",
       " 'b14r16',\n",
       " 'b3g20',\n",
       " 'b4g20',\n",
       " 'b6r17',\n",
       " 'b7r16',\n",
       " 'b8r17',\n",
       " 'g11y3',\n",
       " 'g13k7',\n",
       " 'g13p17',\n",
       " 'g19r15',\n",
       " 'g20r15',\n",
       " 'g20y17',\n",
       " 'g20y3',\n",
       " 'g7r15',\n",
       " 'k3r16',\n",
       " 'k6r16',\n",
       " 'p20r16',\n",
       " 'p3r16',\n",
       " 'r15s12',\n",
       " 'r15y2',\n",
       " 'r15y5',\n",
       " 'r17s7',\n",
       " 'r20s4']"
      ]
     },
     "execution_count": 3,
     "metadata": {},
     "output_type": "execute_result"
    }
   ],
   "source": [
    "birds = os.listdir(path2wavs)\n",
    "birds"
   ]
  },
  {
   "cell_type": "code",
   "execution_count": 4,
   "metadata": {},
   "outputs": [],
   "source": [
    "path2bird = os.path.join(path2wavs, 'g13k7', 'SAP')"
   ]
  },
  {
   "cell_type": "code",
   "execution_count": 5,
   "metadata": {},
   "outputs": [
    {
     "data": {
      "text/plain": [
       "['2014-11-30', '2014-12-01']"
      ]
     },
     "execution_count": 5,
     "metadata": {},
     "output_type": "execute_result"
    }
   ],
   "source": [
    "os.listdir(path2bird)"
   ]
  },
  {
   "cell_type": "code",
   "execution_count": 13,
   "metadata": {},
   "outputs": [],
   "source": [
    "path2data = os.path.join(path2bird, '2014-11-30','songs')"
   ]
  },
  {
   "cell_type": "code",
   "execution_count": 16,
   "metadata": {},
   "outputs": [
    {
     "data": {
      "text/plain": [
       "1951"
      ]
     },
     "execution_count": 16,
     "metadata": {},
     "output_type": "execute_result"
    }
   ],
   "source": [
    "fls = os.listdir(path2data)\n",
    "len(fls)"
   ]
  },
  {
   "cell_type": "code",
   "execution_count": 17,
   "metadata": {},
   "outputs": [],
   "source": [
    "birdfile = h5py.File('/mnt/Data/g13k7_test_compressed.h5', 'w')\n"
   ]
  },
  {
   "cell_type": "code",
   "execution_count": 22,
   "metadata": {},
   "outputs": [],
   "source": [
    "day1 = birdfile.create_group('2014-11-30')"
   ]
  },
  {
   "cell_type": "code",
   "execution_count": 23,
   "metadata": {},
   "outputs": [],
   "source": [
    "for k in day1.keys():\n",
    "    print(k)"
   ]
  },
  {
   "cell_type": "code",
   "execution_count": 26,
   "metadata": {},
   "outputs": [
    {
     "data": {
      "text/plain": [
       "<HDF5 group \"/2014-11-30\" (0 members)>"
      ]
     },
     "execution_count": 26,
     "metadata": {},
     "output_type": "execute_result"
    }
   ],
   "source": [
    "day1"
   ]
  },
  {
   "cell_type": "code",
   "execution_count": 20,
   "metadata": {},
   "outputs": [],
   "source": [
    "age = 100"
   ]
  },
  {
   "cell_type": "code",
   "execution_count": 30,
   "metadata": {},
   "outputs": [],
   "source": [
    "for (i,f) in enumerate(fls):\n",
    "    # first load the file \n",
    "    song, fs = load_wav_file(os.path.join(path2data, f))\n",
    "    # down sample\n",
    "    song = downsample(song, 2)\n",
    "    # create spectrogram\n",
    "    ims = to_image(song, 256)\n",
    "    # now save ims as a dataset\n",
    "    day1.create_dataset(f.split('.')[0]+'_'+str(age), data=ims)"
   ]
  },
  {
   "cell_type": "code",
   "execution_count": 66,
   "metadata": {},
   "outputs": [],
   "source": [
    "birdfile.close()"
   ]
  },
  {
   "cell_type": "markdown",
   "metadata": {},
   "source": [
    "# read back file"
   ]
  },
  {
   "cell_type": "code",
   "execution_count": 32,
   "metadata": {},
   "outputs": [],
   "source": [
    "birdfile = h5py.File('/media/songbird/datapartition/mdgan_training_input_with_age_HDF/b7r16', 'a')"
   ]
  },
  {
   "cell_type": "code",
   "execution_count": 33,
   "metadata": {},
   "outputs": [],
   "source": [
    "day = birdfile.create_group('2014-12-01')"
   ]
  },
  {
   "cell_type": "code",
   "execution_count": 34,
   "metadata": {},
   "outputs": [
    {
     "data": {
      "text/plain": [
       "1440"
      ]
     },
     "execution_count": 34,
     "metadata": {},
     "output_type": "execute_result"
    }
   ],
   "source": [
    "path2data = os.path.join(path2bird, '2014-12-01','songs')\n",
    "fls = os.listdir(path2data)\n",
    "len(fls)"
   ]
  },
  {
   "cell_type": "code",
   "execution_count": 35,
   "metadata": {},
   "outputs": [],
   "source": [
    "for (i,f) in enumerate(fls):\n",
    "    # first load the file \n",
    "    song, fs = load_wav_file(os.path.join(path2data, f))\n",
    "    # down sample\n",
    "    song = downsample(song, 2)\n",
    "    # create spectrogram\n",
    "    ims = to_image(song, 256)\n",
    "    # now save ims as a dataset\n",
    "    day.create_dataset(f.split('.')[0]+'_'+str(age), data=ims, compression = 'gzip', compression_opts = 9)"
   ]
  },
  {
   "cell_type": "markdown",
   "metadata": {},
   "source": [
    "# explore the h5py file"
   ]
  },
  {
   "cell_type": "code",
   "execution_count": 10,
   "metadata": {},
   "outputs": [],
   "source": [
    "birdfile = h5py.File('/media/songbird/datapartition/mdgan_training_input_with_age_HDF/b7r16', 'r')"
   ]
  },
  {
   "cell_type": "code",
   "execution_count": null,
   "metadata": {},
   "outputs": [],
   "source": [
    "base_items = list(birdfile.items())\n",
    "print(base_items)"
   ]
  },
  {
   "cell_type": "code",
   "execution_count": 12,
   "metadata": {},
   "outputs": [
    {
     "data": {
      "text/plain": [
       "'2011-05-03'"
      ]
     },
     "execution_count": 12,
     "metadata": {},
     "output_type": "execute_result"
    }
   ],
   "source": [
    "base_items[0][0]"
   ]
  },
  {
   "cell_type": "code",
   "execution_count": 14,
   "metadata": {},
   "outputs": [],
   "source": [
    "day1 = birdfile.get(base_items[0][0])"
   ]
  },
  {
   "cell_type": "code",
   "execution_count": null,
   "metadata": {},
   "outputs": [],
   "source": [
    "day1_items = list(day1.items())\n",
    "day1_items"
   ]
  },
  {
   "cell_type": "code",
   "execution_count": 16,
   "metadata": {},
   "outputs": [
    {
     "data": {
      "text/plain": [
       "('b7r16U-f00001-1_0_2',\n",
       " <HDF5 dataset \"b7r16U-f00001-1_0_2\": shape (129, 168, 2), type \"<f4\">)"
      ]
     },
     "execution_count": 16,
     "metadata": {},
     "output_type": "execute_result"
    }
   ],
   "source": [
    "day1_items[0]"
   ]
  },
  {
   "cell_type": "code",
   "execution_count": 12,
   "metadata": {},
   "outputs": [],
   "source": [
    "file1_spect = np.array(birdfile.get('/'+base_items[0][0]+'/'+day1_items[0][0]))"
   ]
  },
  {
   "cell_type": "code",
   "execution_count": 13,
   "metadata": {},
   "outputs": [
    {
     "data": {
      "text/plain": [
       "dtype('float32')"
      ]
     },
     "execution_count": 13,
     "metadata": {},
     "output_type": "execute_result"
    }
   ],
   "source": [
    "file1_spect.dtype"
   ]
  },
  {
   "cell_type": "code",
   "execution_count": 14,
   "metadata": {},
   "outputs": [
    {
     "data": {
      "text/plain": [
       "(129, 136, 2)"
      ]
     },
     "execution_count": 14,
     "metadata": {},
     "output_type": "execute_result"
    }
   ],
   "source": [
    "file1_spect.shape"
   ]
  },
  {
   "cell_type": "code",
   "execution_count": 18,
   "metadata": {},
   "outputs": [],
   "source": [
    "birdfile.close()"
   ]
  },
  {
   "cell_type": "code",
   "execution_count": 39,
   "metadata": {},
   "outputs": [],
   "source": [
    "def get_random_spectrogram_sample_from_bird(birdhdfpath, folder_names, Nsamps = 1):\n",
    "    birdfile = h5py.File(birdhdfpath, 'r')\n",
    "    base_items = list(birdfile.items())\n",
    "    directory_names = [b[0] for b in base_items]\n",
    "    # search for folder name and get random samples\n",
    "    out = [None for k in range(len(folder_names))]\n",
    "    for j,f in enumerate(folder_names):\n",
    "        for i,d in enumerate(directory_names):\n",
    "            if f in d:\n",
    "                sequencelist = list(birdfile.get(base_items[i][0]).items())\n",
    "                idx = np.random.choice(len(sequencelist),size=Nsamps,replace=False)\n",
    "                out[j] = [None for m in range(Nsamps)]\n",
    "                for k in range(len(idx)):\n",
    "                    out[j][k] = np.array(birdfile.get('/'+d+'/'+sequencelist[idx[k]][0]))\n",
    "    birdfile.close()\n",
    "    return out"
   ]
  },
  {
   "cell_type": "code",
   "execution_count": 40,
   "metadata": {},
   "outputs": [],
   "source": [
    "X = get_random_spectrogram_sample_from_bird('/media/songbird/datapartition/mdgan_training_input_with_age_HDF/b7r16', ['tutor'], Nsamps=10)"
   ]
  },
  {
   "cell_type": "code",
   "execution_count": 41,
   "metadata": {},
   "outputs": [
    {
     "data": {
      "text/plain": [
       "(129, 208, 2)"
      ]
     },
     "execution_count": 41,
     "metadata": {},
     "output_type": "execute_result"
    }
   ],
   "source": [
    "X[0][0].shape"
   ]
  },
  {
   "cell_type": "markdown",
   "metadata": {},
   "source": [
    "# function for creating one birds compressed dataset"
   ]
  },
  {
   "cell_type": "code",
   "execution_count": 10,
   "metadata": {},
   "outputs": [],
   "source": [
    "def create_bird_spectrogram_hdf(birdname, birddatapath, outpath, downsample_factor=2, nfft=256, standardize=False, compress_type='gzip', compress_idx=9):\n",
    "    '''\n",
    "    Creates HDF file for this bird. Each day of recording is a Group, \n",
    "    and the spectrogram of each wav file is a Dataset in a Group.\n",
    "    Attributes are added for each group\n",
    "    '''\n",
    "    start = time()\n",
    "    # create hdf file for this bird in the outpath folder\n",
    "    birdfile = h5py.File(os.path.join(outpath, birdname), 'w')\n",
    "    try:\n",
    "        # get all folder names\n",
    "        folders = os.listdir(birddatapath)\n",
    "        # determine pseudo age\n",
    "        ages = extract_pseudoage_from_folder_names(folders)\n",
    "        if len(ages)==1:\n",
    "            ages = [ages[0] for i in range(len(folders))]\n",
    "        # go through each folder, load files, downsample (optional), standardize (optional) and create STFTs\n",
    "        save_idx = 0\n",
    "        for (k,fold) in enumerate(folders):\n",
    "            # create group\n",
    "            d = birdfile.create_group(fold)\n",
    "            d.attrs['CLASS'] = 'STFT_with_Magnitude_and_Phase(2nd index in last dimension)'\n",
    "            d.attrs['DTYPE'] = 'float32'\n",
    "            d.attrs['PSEUDO_AGE'] = ages[k]\n",
    "            d.attrs['nfft'] = nfft\n",
    "            d.attrs['downsamplerate'] = downsample_factor\n",
    "            d.attrs['standardized'] = standardize\n",
    "            songs, fs, filenames = load_from_folder(birddatapath, fold)\n",
    "            if songs:\n",
    "                if downsample_factor:\n",
    "                    songs = [downsample(i, downsample_factor) for i in songs]\n",
    "                    if standardize:\n",
    "                        songs = [s/np.std(s) for s in songs]\n",
    "                ims = [to_image(i,nfft) for i in songs]\n",
    "                for (i,im) in enumerate(ims):\n",
    "                    d.create_dataset(filenames[i].split('.')[0]+'_'+str(save_idx)+'_'+str(ages[k]), data=im, \\\n",
    "                                     compression = compress_type, compression_opts = compress_idx)\n",
    "        birdfile.close()\n",
    "    except:\n",
    "        birdfile.close()\n",
    "    end = time()\n",
    "    print('..... bird %s finished in %5d secs.....'%(birdname, end-start)) "
   ]
  },
  {
   "cell_type": "markdown",
   "metadata": {},
   "source": [
    "# go over all birds and do it!"
   ]
  },
  {
   "cell_type": "code",
   "execution_count": 9,
   "metadata": {},
   "outputs": [
    {
     "data": {
      "text/plain": [
       "['b13r16',\n",
       " 'b14r16',\n",
       " 'b3g20',\n",
       " 'b4g20',\n",
       " 'b6r17',\n",
       " 'b7r16',\n",
       " 'b8r17',\n",
       " 'g11y3',\n",
       " 'g13k7',\n",
       " 'g13p17',\n",
       " 'g19r15',\n",
       " 'g20r15',\n",
       " 'g20y17',\n",
       " 'g20y3',\n",
       " 'g7r15',\n",
       " 'k3r16',\n",
       " 'k6r16',\n",
       " 'p20r16',\n",
       " 'p3r16',\n",
       " 'r15s12',\n",
       " 'r15y2',\n",
       " 'r15y5',\n",
       " 'r17s7',\n",
       " 'r20s4']"
      ]
     },
     "execution_count": 9,
     "metadata": {},
     "output_type": "execute_result"
    }
   ],
   "source": [
    "path1 = '/media/songbird/Gagan_external/songbird_data/WAV_files/'\n",
    "out_path = '/mnt/Data/mdgan_training_input_with_age_HDF/'\n",
    "birds = os.listdir(path1)\n",
    "birds"
   ]
  },
  {
   "cell_type": "markdown",
   "metadata": {},
   "source": [
    "# exclude birds if needed"
   ]
  },
  {
   "cell_type": "code",
   "execution_count": 10,
   "metadata": {},
   "outputs": [
    {
     "data": {
      "text/plain": [
       "['g11y3',\n",
       " 'g13k7',\n",
       " 'g13p17',\n",
       " 'g19r15',\n",
       " 'g20r15',\n",
       " 'g20y17',\n",
       " 'g20y3',\n",
       " 'g7r15',\n",
       " 'k3r16',\n",
       " 'k6r16',\n",
       " 'p20r16',\n",
       " 'p3r16',\n",
       " 'r15s12',\n",
       " 'r15y2',\n",
       " 'r15y5',\n",
       " 'r17s7',\n",
       " 'r20s4']"
      ]
     },
     "execution_count": 10,
     "metadata": {},
     "output_type": "execute_result"
    }
   ],
   "source": [
    "birds = birds[7:]\n",
    "birds"
   ]
  },
  {
   "cell_type": "code",
   "execution_count": 11,
   "metadata": {},
   "outputs": [
    {
     "name": "stdout",
     "output_type": "stream",
     "text": [
      "\n",
      " ..... bird is g11y3 ....\n",
      "\n",
      "..... bird g11y3 finished in    10 secs.....\n",
      "\n",
      " ..... bird is g13k7 ....\n",
      "\n",
      "..... bird g13k7 finished in    76 secs.....\n",
      "\n",
      " ..... bird is g13p17 ....\n",
      "\n",
      "..... bird g13p17 finished in    51 secs.....\n",
      "\n",
      " ..... bird is g19r15 ....\n",
      "\n",
      "..... bird g19r15 finished in   526 secs.....\n",
      "\n",
      " ..... bird is g20r15 ....\n",
      "\n",
      "..... bird g20r15 finished in   637 secs.....\n",
      "\n",
      " ..... bird is g20y17 ....\n",
      "\n",
      "..... bird g20y17 finished in  2638 secs.....\n",
      "\n",
      " ..... bird is g20y3 ....\n",
      "\n",
      "..... bird g20y3 finished in  3673 secs.....\n",
      "\n",
      " ..... bird is g7r15 ....\n",
      "\n",
      "..... bird g7r15 finished in  1463 secs.....\n",
      "\n",
      " ..... bird is k3r16 ....\n",
      "\n",
      "..... bird k3r16 finished in  2226 secs.....\n",
      "\n",
      " ..... bird is k6r16 ....\n",
      "\n",
      "..... bird k6r16 finished in  2583 secs.....\n",
      "\n",
      " ..... bird is p20r16 ....\n",
      "\n",
      "..... bird p20r16 finished in  2202 secs.....\n",
      "\n",
      " ..... bird is p3r16 ....\n",
      "\n",
      "..... bird p3r16 finished in  2327 secs.....\n",
      "\n",
      " ..... bird is r15s12 ....\n",
      "\n",
      "..... bird r15s12 finished in  2533 secs.....\n",
      "\n",
      " ..... bird is r15y2 ....\n",
      "\n",
      "..... bird r15y2 finished in  1428 secs.....\n",
      "\n",
      " ..... bird is r15y5 ....\n",
      "\n",
      "..... bird r15y5 finished in  1518 secs.....\n",
      "\n",
      " ..... bird is r17s7 ....\n",
      "\n",
      "..... bird r17s7 finished in     0 secs.....\n",
      "\n",
      " ..... bird is r20s4 ....\n",
      "\n",
      "..... bird r20s4 finished in     1 secs.....\n"
     ]
    }
   ],
   "source": [
    "for b in birds:\n",
    "    print('\\n ..... bird is %s ....\\n'%(b))\n",
    "    \n",
    "    create_bird_spectrogram_hdf(b, os.path.join(path1, b, 'SAP'), out_path, 2, 256)"
   ]
  },
  {
   "cell_type": "markdown",
   "metadata": {},
   "source": [
    "# make ID lists of data"
   ]
  },
  {
   "cell_type": "code",
   "execution_count": 11,
   "metadata": {},
   "outputs": [],
   "source": [
    "import pdb"
   ]
  },
  {
   "cell_type": "code",
   "execution_count": 2,
   "metadata": {},
   "outputs": [],
   "source": [
    "def make_IDs(birdhdfpath, birdname, id_list, age_weight_list, cnt):\n",
    "    birdfile = h5py.File(birdhdfpath, 'r')\n",
    "    all_grps = list(birdfile.items())\n",
    "    # cycle over days for this bird\n",
    "    for g in all_grps:\n",
    "        day = birdfile.get(g[0])\n",
    "        day_wav_list = list(day.items())\n",
    "        # cycle over files\n",
    "        for f in day_wav_list:\n",
    "            duration = np.array(f[1]).shape[1]\n",
    "            age_weight = 1 - float(f[0].split('_')[-1])/100\n",
    "            if age_weight==0.0:\n",
    "                # for adults age is automaticaly 100, so weight \n",
    "                # be 0 which is undesirable\n",
    "                age_weight = 0.1\n",
    "            age_weight_list.append(age_weight)\n",
    "            id_list.append({'id':cnt, 'birdname': birdname, 'filepath': birdhdfpath, \\\n",
    "                            'within_file': '/'+g[0]+'/'+f[0], 'age_weight': age_weight,\n",
    "                           'duration':duration})\n",
    "            cnt += 1\n",
    "    birdfile.close()\n",
    "    return id_list, age_weight_list, cnt"
   ]
  },
  {
   "cell_type": "code",
   "execution_count": 3,
   "metadata": {},
   "outputs": [],
   "source": [
    "def make_ID_list(path2birds):\n",
    "    birds = os.listdir(path2birds)\n",
    "    id_list = []\n",
    "    age_weight_list = []\n",
    "    cnt = 0\n",
    "    for (i,b) in enumerate(birds):\n",
    "        id_list, age_weight_list, cnt = make_IDs(os.path.join(path2birds, b), b, id_list, age_weight_list, cnt)\n",
    "        print('..... %d of %d birds indexed .....'%(i, len(birds)))\n",
    "    return id_list, age_weight_list, cnt"
   ]
  },
  {
   "cell_type": "code",
   "execution_count": 4,
   "metadata": {},
   "outputs": [
    {
     "name": "stdout",
     "output_type": "stream",
     "text": [
      "..... 0 of 23 birds indexed .....\n",
      "..... 1 of 23 birds indexed .....\n",
      "..... 2 of 23 birds indexed .....\n",
      "..... 3 of 23 birds indexed .....\n",
      "..... 4 of 23 birds indexed .....\n",
      "..... 5 of 23 birds indexed .....\n",
      "..... 6 of 23 birds indexed .....\n",
      "..... 7 of 23 birds indexed .....\n",
      "..... 8 of 23 birds indexed .....\n",
      "..... 9 of 23 birds indexed .....\n",
      "..... 10 of 23 birds indexed .....\n",
      "..... 11 of 23 birds indexed .....\n",
      "..... 12 of 23 birds indexed .....\n",
      "..... 13 of 23 birds indexed .....\n",
      "..... 14 of 23 birds indexed .....\n",
      "..... 15 of 23 birds indexed .....\n",
      "..... 16 of 23 birds indexed .....\n",
      "..... 17 of 23 birds indexed .....\n",
      "..... 18 of 23 birds indexed .....\n",
      "..... 19 of 23 birds indexed .....\n",
      "..... 20 of 23 birds indexed .....\n",
      "..... 21 of 23 birds indexed .....\n",
      "..... 22 of 23 birds indexed .....\n"
     ]
    }
   ],
   "source": [
    "id_list, age_weight_list, cnt = make_ID_list('/media/songbird/datapartition/mdgan_training_input_with_age_HDF/')"
   ]
  },
  {
   "cell_type": "code",
   "execution_count": 23,
   "metadata": {},
   "outputs": [
    {
     "data": {
      "text/plain": [
       "1608376"
      ]
     },
     "execution_count": 23,
     "metadata": {},
     "output_type": "execute_result"
    }
   ],
   "source": [
    "cnt"
   ]
  },
  {
   "cell_type": "code",
   "execution_count": 24,
   "metadata": {},
   "outputs": [],
   "source": [
    "with open('/media/songbird/datapartition/id_list_train.pkl','rb') as f:\n",
    "    id_list_train = pickle.load(f)\n",
    "\n",
    "age_weights_train = [ids['age_weight'] for ids in id_list_train]\n",
    "\n",
    "with open('/media/songbird/datapartition/age_weights_training.pkl', 'wb') as f: \n",
    "    pickle.dump(age_weights_train, f, protocol=pickle.HIGHEST_PROTOCOL)"
   ]
  },
  {
   "cell_type": "code",
   "execution_count": 11,
   "metadata": {},
   "outputs": [],
   "source": [
    "with open('/media/songbird/datapartition/id_list_test.pkl','rb') as f:\n",
    "    id_list_test = pickle.load(f)\n",
    "\n",
    "age_weights_test = [ids['age_weight'] for ids in id_list_test]\n",
    "\n",
    "with open('/media/songbird/datapartition/age_weights_test.pkl', 'wb') as f: \n",
    "    pickle.dump(age_weights_test, f, protocol=pickle.HIGHEST_PROTOCOL)"
   ]
  },
  {
   "cell_type": "code",
   "execution_count": 25,
   "metadata": {},
   "outputs": [
    {
     "name": "stdout",
     "output_type": "stream",
     "text": [
      "..... 0 of 2 birds indexed .....\n",
      "..... 1 of 2 birds indexed .....\n"
     ]
    }
   ],
   "source": [
    "id_list, age_weight_list, cnt = make_ID_list('/media/songbird/datapartition/mdgan_holdout_test/')"
   ]
  },
  {
   "cell_type": "code",
   "execution_count": 13,
   "metadata": {},
   "outputs": [
    {
     "data": {
      "text/plain": [
       "203714"
      ]
     },
     "execution_count": 13,
     "metadata": {},
     "output_type": "execute_result"
    }
   ],
   "source": [
    "cnt"
   ]
  },
  {
   "cell_type": "code",
   "execution_count": 14,
   "metadata": {},
   "outputs": [
    {
     "data": {
      "text/plain": [
       "203714"
      ]
     },
     "execution_count": 14,
     "metadata": {},
     "output_type": "execute_result"
    }
   ],
   "source": [
    "len(id_list)"
   ]
  },
  {
   "cell_type": "code",
   "execution_count": 15,
   "metadata": {},
   "outputs": [],
   "source": [
    "import pickle"
   ]
  },
  {
   "cell_type": "code",
   "execution_count": 26,
   "metadata": {},
   "outputs": [],
   "source": [
    "with open('/media/songbird/datapartition/mdgan_holdout_test/age_weights.pkl', 'wb') as f: \n",
    "    pickle.dump(age_weight_list, f, protocol=pickle.HIGHEST_PROTOCOL)"
   ]
  },
  {
   "cell_type": "code",
   "execution_count": 27,
   "metadata": {},
   "outputs": [],
   "source": [
    "with open('/media/songbird/datapartition/id_list_holdout.pkl', 'wb') as f: \n",
    "    pickle.dump(id_list, f, protocol=pickle.HIGHEST_PROTOCOL)"
   ]
  },
  {
   "cell_type": "markdown",
   "metadata": {},
   "source": [
    "# create training, validation and test sets"
   ]
  },
  {
   "cell_type": "code",
   "execution_count": 5,
   "metadata": {},
   "outputs": [],
   "source": [
    "from random import shuffle"
   ]
  },
  {
   "cell_type": "code",
   "execution_count": 6,
   "metadata": {},
   "outputs": [],
   "source": [
    "# split id_list into train, val and test\n",
    "ids = [n for n in range(len(id_list))]\n",
    "shuffle(ids)\n",
    "train_valtest_ratio = 0.9\n",
    "#val_test_ratio = 0.2\n",
    "\n",
    "\n",
    "idstrain = ids[:round(train_valtest_ratio * len(id_list))]\n",
    "idstest = ids[round(train_valtest_ratio * len(id_list)):]\n",
    "id_list_train = [id_list[i] for i in idstrain]\n",
    "id_list_test = [id_list[i] for i in idstest]\n",
    "#id_list_val = id_list[ids[round(train_valtest_ratio * len(id_list)): round(val_test_ratio + train_valtest_ratio)*len(id_list)]]\n",
    "#id_list_test = id_list[ids[round(val_test_ratio + train_valtest_ratio)*len(id_list):]]\n"
   ]
  },
  {
   "cell_type": "code",
   "execution_count": 7,
   "metadata": {},
   "outputs": [
    {
     "data": {
      "text/plain": [
       "{'id': 630449,\n",
       " 'birdname': 'b14r16',\n",
       " 'filepath': '/media/songbird/datapartition/mdgan_training_input_with_age_HDF/b14r16',\n",
       " 'within_file': '/2011-06-22/b14r16U-f00547-2_0_52',\n",
       " 'age_weight': 0.48,\n",
       " 'duration': 473}"
      ]
     },
     "execution_count": 7,
     "metadata": {},
     "output_type": "execute_result"
    }
   ],
   "source": [
    "id_list_train[0]"
   ]
  },
  {
   "cell_type": "code",
   "execution_count": 8,
   "metadata": {},
   "outputs": [
    {
     "data": {
      "text/plain": [
       "160838"
      ]
     },
     "execution_count": 8,
     "metadata": {},
     "output_type": "execute_result"
    }
   ],
   "source": [
    "len(idstest)"
   ]
  },
  {
   "cell_type": "code",
   "execution_count": 9,
   "metadata": {},
   "outputs": [],
   "source": [
    "with open('/media/songbird/datapartition/id_list_train.pkl', 'wb') as f: \n",
    "    pickle.dump(id_list_train, f, protocol=pickle.HIGHEST_PROTOCOL)"
   ]
  },
  {
   "cell_type": "code",
   "execution_count": 10,
   "metadata": {},
   "outputs": [],
   "source": [
    "with open('/media/songbird/datapartition/id_list_test.pkl', 'wb') as f: \n",
    "    pickle.dump(id_list_test, f, protocol=pickle.HIGHEST_PROTOCOL)"
   ]
  },
  {
   "cell_type": "code",
   "execution_count": null,
   "metadata": {},
   "outputs": [],
   "source": [
    "ages_train = [age]"
   ]
  },
  {
   "cell_type": "markdown",
   "metadata": {},
   "source": [
    "# make a pytorch dataset for your dataset"
   ]
  },
  {
   "cell_type": "code",
   "execution_count": 23,
   "metadata": {},
   "outputs": [],
   "source": [
    "from torch.utils import data"
   ]
  },
  {
   "cell_type": "code",
   "execution_count": 19,
   "metadata": {},
   "outputs": [],
   "source": [
    "def transform(im):\n",
    "    \"\"\"\n",
    "    This function should be used to transform data into the desired format for the network.\n",
    "    inverse transoform should be an inverse of this function\n",
    "    \"\"\"\n",
    "    im = from_polar(im)\n",
    "    im, phase = lc.magphase(im)\n",
    "    im = np.log1p(im)\n",
    "    return im"
   ]
  },
  {
   "cell_type": "code",
   "execution_count": 39,
   "metadata": {},
   "outputs": [],
   "source": [
    "class songbird_dataset(data.Dataset):\n",
    "    def __init__(self, path2idlist, imageW):\n",
    "        with open(path2idlist, 'rb') as f:\n",
    "            self.id_list = pickle.load(f)\n",
    "            self.imageW = imageW\n",
    "        \n",
    "    def __len__(self):\n",
    "        # total number of samples\n",
    "        return len(self.id_list)\n",
    "    \n",
    "    def __getitem__(self, index):\n",
    "        # load one wav file and get a sample chunk from it\n",
    "        ID = self.id_list[index]\n",
    "        age_weight = ID['age_weight']\n",
    "        # this 'ID' is a dictionary containing several fields,\n",
    "        # use field 'filepath' and 'within_file' to get data\n",
    "        f = h5py.File(ID['filepath'], 'r') \n",
    "        X = np.array(f.get(ID['within_file']))\n",
    "        f.close()\n",
    "        # transform \n",
    "        X = self.crop_and_transform(X)\n",
    "        return torch.from_numpy(X), torch.Tensor([age_weight])\n",
    "    \n",
    "    def crop_and_transform(self, X):\n",
    "        X = random_crop(X, width=self.imageW)\n",
    "        X = transform(X)\n",
    "        return X"
   ]
  },
  {
   "cell_type": "code",
   "execution_count": 62,
   "metadata": {},
   "outputs": [],
   "source": [
    "import torch"
   ]
  },
  {
   "cell_type": "code",
   "execution_count": 46,
   "metadata": {},
   "outputs": [],
   "source": [
    "songdataset = songbird_dataset('/mnt/Data/id_list_train.pkl', imageW=16)\n",
    "songdataloader = data.DataLoader(songdataset, batch_size=32, shuffle=True, num_workers=6)"
   ]
  },
  {
   "cell_type": "code",
   "execution_count": 41,
   "metadata": {},
   "outputs": [],
   "source": [
    "x, a = songdataset.__getitem__(1)"
   ]
  },
  {
   "cell_type": "code",
   "execution_count": 44,
   "metadata": {},
   "outputs": [
    {
     "data": {
      "text/plain": [
       "tensor([ 0.7700])"
      ]
     },
     "execution_count": 44,
     "metadata": {},
     "output_type": "execute_result"
    }
   ],
   "source": [
    "a"
   ]
  },
  {
   "cell_type": "code",
   "execution_count": null,
   "metadata": {},
   "outputs": [],
   "source": [
    "for _ in range(2):\n",
    "    for i,(local_batch, local_age) in enumerate(songdataloader):\n",
    "        if i%100==0:\n",
    "            print(local_batch.size())\n",
    "            print(local_age.shape)"
   ]
  },
  {
   "cell_type": "code",
   "execution_count": null,
   "metadata": {},
   "outputs": [],
   "source": []
  },
  {
   "cell_type": "code",
   "execution_count": null,
   "metadata": {},
   "outputs": [],
   "source": []
  }
 ],
 "metadata": {
  "kernelspec": {
   "display_name": "Python 3",
   "language": "python",
   "name": "python3"
  },
  "language_info": {
   "codemirror_mode": {
    "name": "ipython",
    "version": 3
   },
   "file_extension": ".py",
   "mimetype": "text/x-python",
   "name": "python",
   "nbconvert_exporter": "python",
   "pygments_lexer": "ipython3",
   "version": "3.7.0"
  }
 },
 "nbformat": 4,
 "nbformat_minor": 2
}
